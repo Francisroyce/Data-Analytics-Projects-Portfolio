{
 "cells": [
  {
   "cell_type": "code",
   "execution_count": 29,
   "id": "b08d7e87-33b8-48d1-892b-014f48ef46ed",
   "metadata": {},
   "outputs": [
    {
     "name": "stdin",
     "output_type": "stream",
     "text": [
      "Enter your name:  Francis Royce\n",
      "Enter your weight in pounds:  170\n",
      "Enter your height in inches:  69\n"
     ]
    },
    {
     "name": "stdout",
     "output_type": "stream",
     "text": [
      "Francis Royce, your BMI is: 25.1\n",
      "Francis Royce, you are overweight. You need to exercise more and stop sitting and writing so many python tutorials.\n"
     ]
    }
   ],
   "source": [
    "name = input(\"Enter your name: \")\n",
    "\n",
    "weight = int(input(\"Enter your weight in pounds: \"))\n",
    "\n",
    "height = int(input(\"Enter your height in inches: \"))\n",
    "\n",
    "BMI = (weight * 703) / (height * height)\n",
    "\n",
    "# Format the BMI to 1 decimal place\n",
    "print(f\"{name}, your BMI is: {BMI:.1f}\")\n",
    "\n",
    "if BMI > 0:\n",
    "    if BMI < 18.5:\n",
    "        print(name + \", you are underweight.\")\n",
    "    elif BMI <= 24.9:\n",
    "        print(name + \", you are normal weight.\")\n",
    "    elif BMI < 29.9:\n",
    "        print(name + \", you are overweight. You need to exercise more and stop sitting and writing so many python tutorials.\")\n",
    "    elif BMI < 34.9:\n",
    "        print(name + \", you are obese.\")\n",
    "    elif BMI < 39.9:\n",
    "        print(name + \", you are severely obese.\")\n",
    "    else:\n",
    "        print(name + \", you are morbidly obese.\")\n",
    "else:\n",
    "    print(\"Enter valid input\")\n"
   ]
  },
  {
   "cell_type": "markdown",
   "id": "ade651af-aaed-4e87-8c14-ad3d932045a6",
   "metadata": {},
   "source": [
    "# Another way"
   ]
  },
  {
   "cell_type": "code",
   "execution_count": 32,
   "id": "d3e2d4bb-c539-47ea-ae86-85d1969e07e6",
   "metadata": {},
   "outputs": [
    {
     "name": "stdin",
     "output_type": "stream",
     "text": [
      "Enter your name:  Francis Royce\n",
      "Enter your weight in pounds:  170\n",
      "Enter your height in inches:  69\n"
     ]
    },
    {
     "name": "stdout",
     "output_type": "stream",
     "text": [
      "Francis Royce, your BMI is: 25.1\n",
      "Francis Royce, you are overweight. You need to exercise more and stop sitting and writing so many python tutorials.\n"
     ]
    }
   ],
   "source": [
    "import concurrent.futures\n",
    "\n",
    "def calculate_bmi(weight, height):\n",
    "    BMI = (weight * 703) / (height * height)\n",
    "    return BMI\n",
    "\n",
    "def get_bmi_category(BMI, name):\n",
    "    if BMI > 0:\n",
    "        if BMI < 18.5:\n",
    "            return f\"{name}, you are underweight.\"\n",
    "        elif BMI <= 24.9:\n",
    "            return f\"{name}, you are normal weight.\"\n",
    "        elif BMI < 29.9:\n",
    "            return f\"{name}, you are overweight. You need to exercise more and stop sitting and writing so many python tutorials.\"\n",
    "        elif BMI < 34.9:\n",
    "            return f\"{name}, you are obese.\"\n",
    "        elif BMI < 39.9:\n",
    "            return f\"{name}, you are severely obese.\"\n",
    "        else:\n",
    "            return f\"{name}, you are morbidly obese.\"\n",
    "    else:\n",
    "        return \"Enter valid input.\"\n",
    "\n",
    "def main():\n",
    "    name = input(\"Enter your name: \")\n",
    "    weight = int(input(\"Enter your weight in pounds: \"))\n",
    "    height = int(input(\"Enter your height in inches: \"))\n",
    "\n",
    "    with concurrent.futures.ThreadPoolExecutor() as executor:\n",
    "        future_bmi = executor.submit(calculate_bmi, weight, height)\n",
    "        BMI = future_bmi.result()\n",
    "        \n",
    "        # Format the BMI to 1 decimal place\n",
    "        print(f\"{name}, your BMI is: {BMI:.1f}\")\n",
    "\n",
    "        future_category = executor.submit(get_bmi_category, BMI, name)\n",
    "        print(future_category.result())\n",
    "\n",
    "if __name__ == \"__main__\":\n",
    "    main()\n"
   ]
  },
  {
   "cell_type": "code",
   "execution_count": null,
   "id": "aecc1916-33ec-4985-84d2-03998b5728f3",
   "metadata": {},
   "outputs": [],
   "source": []
  }
 ],
 "metadata": {
  "kernelspec": {
   "display_name": "Python 3 (ipykernel)",
   "language": "python",
   "name": "python3"
  },
  "language_info": {
   "codemirror_mode": {
    "name": "ipython",
    "version": 3
   },
   "file_extension": ".py",
   "mimetype": "text/x-python",
   "name": "python",
   "nbconvert_exporter": "python",
   "pygments_lexer": "ipython3",
   "version": "3.12.4"
  }
 },
 "nbformat": 4,
 "nbformat_minor": 5
}
